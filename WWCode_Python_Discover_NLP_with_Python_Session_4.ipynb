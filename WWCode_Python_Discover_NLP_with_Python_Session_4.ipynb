{
  "nbformat": 4,
  "nbformat_minor": 0,
  "metadata": {
    "colab": {
      "name": "WWCode Python - Discover NLP with Python: Session #4.ipynb",
      "provenance": [],
      "collapsed_sections": [
        "wpUvh9wXbAak",
        "QzhNg4OQbQtd",
        "ldV-46FbcFoA",
        "EPyVdjI3c9kC"
      ]
    },
    "kernelspec": {
      "display_name": "Python 3",
      "name": "python3"
    }
  },
  "cells": [
    {
      "cell_type": "markdown",
      "metadata": {
        "id": "kDsx4h1m0fSM"
      },
      "source": [
        "# __Discover NLP with Python Week 4 - Neural Matchine Translation (NMT)__\n",
        "\n",
        "In this tutorial we will be predicting English word translation from Spanish using the popular neural network LSTM. \n",
        "\n",
        "\n",
        "This tutorial contains 4 parts:  \n",
        "\n",
        "1. <font color='skyblue'>Data Pre-Processing and Exploratory Data Analysis (EDA)</font>\n",
        "2. <font color='mediumpurple'>Text Representation & Feature Engineering</font>\n",
        "3. <font color='darksalmon'>Model</font>\n",
        "4. <font color='hotpink'>Plot Results and Make Predictions</font>\n",
        "\n",
        "![picture](https://drive.google.com/uc?export=view&id=1wByRTAx0CJ1OE2LCRYeSNGZUA2nTs9mE)\n"
      ]
    },
    {
      "cell_type": "markdown",
      "metadata": {
        "id": "K7bPLIIyix7R"
      },
      "source": [
        "## <font color='skyblue'>__Data Pre-processing and EDA__ </font>\n",
        "\n",
        "We will need to explore and understanad the data we have in order to feed the data into the training model\n"
      ]
    },
    {
      "cell_type": "markdown",
      "metadata": {
        "id": "6xiF1KGynNXy"
      },
      "source": [
        "#### <font color='skyblue'>__Donwload and view data__</font>  \n",
        "\n",
        "We start by downloading the data and viewing the raw data.  \n",
        "\n",
        "It is important to understand how the raw data is structured and where exactly the data we use are located in order to determine which rows to select for data processing.  \n"
      ]
    },
    {
      "cell_type": "code",
      "metadata": {
        "id": "283ZPghToSpm",
        "colab": {
          "base_uri": "https://localhost:8080/"
        },
        "outputId": "740e1526-fb61-43fd-cef2-0d4c6d533048"
      },
      "source": [
        "# get the dataset \n",
        "!wget http://www.manythings.org//anki/spa-eng.zip\n",
        "!unzip spa-eng.zip  # unzip the file "
      ],
      "execution_count": null,
      "outputs": [
        {
          "output_type": "stream",
          "text": [
            "--2020-12-09 05:02:41--  http://www.manythings.org//anki/spa-eng.zip\n",
            "Resolving www.manythings.org (www.manythings.org)... 104.24.109.196, 104.24.108.196, 172.67.173.198, ...\n",
            "Connecting to www.manythings.org (www.manythings.org)|104.24.109.196|:80... connected.\n",
            "HTTP request sent, awaiting response... 200 OK\n",
            "Length: 4845402 (4.6M) [application/zip]\n",
            "Saving to: ‘spa-eng.zip’\n",
            "\n",
            "spa-eng.zip         100%[===================>]   4.62M  15.2MB/s    in 0.3s    \n",
            "\n",
            "2020-12-09 05:02:42 (15.2 MB/s) - ‘spa-eng.zip’ saved [4845402/4845402]\n",
            "\n",
            "Archive:  spa-eng.zip\n",
            "  inflating: _about.txt              \n",
            "  inflating: spa.txt                 \n"
          ],
          "name": "stdout"
        }
      ]
    },
    {
      "cell_type": "markdown",
      "metadata": {
        "id": "pJTIfUQTmN7g"
      },
      "source": [
        "Let's briefly take a look at the data by getting the first and last 10 rows\n"
      ]
    },
    {
      "cell_type": "code",
      "metadata": {
        "id": "MVd2wFzs-7LP",
        "colab": {
          "base_uri": "https://localhost:8080/"
        },
        "outputId": "c8a0c6d0-3d5e-4e8e-a671-7081db21d3a1"
      },
      "source": [
        "# view first 10 lines of the txt\n",
        "!head -10 spa.txt\n",
        "# view last 10 lines of the txt\n",
        "!tail -10 spa.txt"
      ],
      "execution_count": null,
      "outputs": [
        {
          "output_type": "stream",
          "text": [
            "Go.\tVe.\tCC-BY 2.0 (France) Attribution: tatoeba.org #2877272 (CM) & #4986655 (cueyayotl)\n",
            "Go.\tVete.\tCC-BY 2.0 (France) Attribution: tatoeba.org #2877272 (CM) & #4986656 (cueyayotl)\n",
            "Go.\tVaya.\tCC-BY 2.0 (France) Attribution: tatoeba.org #2877272 (CM) & #4986657 (cueyayotl)\n",
            "Go.\tVáyase.\tCC-BY 2.0 (France) Attribution: tatoeba.org #2877272 (CM) & #6586271 (arh)\n",
            "Hi.\tHola.\tCC-BY 2.0 (France) Attribution: tatoeba.org #538123 (CM) & #431975 (Leono)\n",
            "Run!\t¡Corre!\tCC-BY 2.0 (France) Attribution: tatoeba.org #906328 (papabear) & #1685404 (Elenitigormiti)\n",
            "Run!\t¡Corran!\tCC-BY 2.0 (France) Attribution: tatoeba.org #906328 (papabear) & #5213896 (cueyayotl)\n",
            "Run!\t¡Corra!\tCC-BY 2.0 (France) Attribution: tatoeba.org #906328 (papabear) & #8005613 (Seael)\n",
            "Run!\t¡Corred!\tCC-BY 2.0 (France) Attribution: tatoeba.org #906328 (papabear) & #8005615 (Seael)\n",
            "Run.\tCorred.\tCC-BY 2.0 (France) Attribution: tatoeba.org #4008918 (JSakuragi) & #6681472 (arh)\n",
            "You can't view Flash content on an iPad. However, you can easily email yourself the URLs of these web pages and view that content on your regular computer when you get home.\tNo puedes ver contenido en Flash en un iPad. Sin embargo, puedes fácilmente enviarte por correo electrónico las URL's de esas páginas web y ver el contenido en tu computadora cuando llegas a casa.\tCC-BY 2.0 (France) Attribution: tatoeba.org #918414 (CK) & #2778293 (Leono)\n",
            "A mistake young people often make is to start learning too many languages at the same time, as they underestimate the difficulties and overestimate their own ability to learn them.\tUn error que cometen a menudo los jóvenes es el de comenzar a aprender demasiadas lenguas al mismo tiempo, porque subestiman sus dificultades y sobrestiman sus propias capacidades para aprenderlas.\tCC-BY 2.0 (France) Attribution: tatoeba.org #2783162 (catcher) & #2089222 (Shishir)\n",
            "No matter how much you try to convince people that chocolate is vanilla, it'll still be chocolate, even though you may manage to convince yourself and a few others that it's vanilla.\tNo importa cuánto insistas en convencer a la gente de que el chocolate es vainilla, seguirá siendo chocolate, aunque puede que te convenzas a ti mismo y a algunos otros de que es vainilla.\tCC-BY 2.0 (France) Attribution: tatoeba.org #939787 (CK) & #939804 (Shishir)\n",
            "In 1969, Roger Miller recorded a song called \"You Don't Want My Love.\" Today, this song is better known as \"In the Summer Time.\" It's the first song he wrote and sang that became popular.\tEn 1969, Roger Miller grabó una canción llamada \"Tú no quieres mi amor\". Hoy, esta canción es más conocida como \"En el verano\". Es la primera canción que escribió y cantó que se convirtió popular.\tCC-BY 2.0 (France) Attribution: tatoeba.org #552259 (American) & #1940149 (teskmon)\n",
            "A child who is a native speaker usually knows many things about his or her language that a non-native speaker who has been studying for years still does not know and perhaps will never know.\tUn niño que es hablante nativo normalmente sabe muchas cosas acerca de su lengua que un hablante no nativo que lo haya estado estudiando durante muchos años no sabe todavía y que quizá no sabrá nunca.\tCC-BY 2.0 (France) Attribution: tatoeba.org #953070 (CK) & #955596 (Shishir)\n",
            "There are four main causes of alcohol-related death. Injury from car accidents or violence is one. Diseases like cirrhosis of the liver, cancer, heart and blood system diseases are the others.\tHay cuatro causas principales de muertes relacionadas con el alcohol. Lesión por un accidente automovilístico o violencia es una. Enfermedades como cirrosis del hígado, cáncer, enfermedades del corazón y del sistema circulatorio son las otras.\tCC-BY 2.0 (France) Attribution: tatoeba.org #1141314 (Source_VOA) & #1165109 (marcelostockle)\n",
            "There are mothers and fathers who will lie awake after the children fall asleep and wonder how they'll make the mortgage, or pay their doctor's bills, or save enough for their child's college education.\tHay madres y padres que se quedan despiertos después de que sus hijos se hayan dormido y se preguntan cómo conseguir pagar la hipoteca o las facturas del médico, o cómo ahorrar el suficiente dinero para la educación universitaria de sus hijos.\tCC-BY 2.0 (France) Attribution: tatoeba.org #347771 (CM) & #538643 (Shishir)\n",
            "A carbon footprint is the amount of carbon dioxide pollution that we produce as a result of our activities. Some people try to reduce their carbon footprint because they are concerned about climate change.\tUna huella de carbono es la cantidad de contaminación de dióxido de carbono que producimos como producto de nuestras actividades. Algunas personas intentan reducir su huella de carbono porque están preocupados acerca del cambio climático.\tCC-BY 2.0 (France) Attribution: tatoeba.org #1141316 (Source_VOA) & #1336787 (marcelostockle)\n",
            "Since there are usually multiple websites on any given topic, I usually just click the back button when I arrive on any webpage that has pop-up advertising. I just go to the next page found by Google and hope for something less irritating.\tComo suele haber varias páginas web sobre cualquier tema, normalmente sólo le doy al botón de retroceso cuando entro en una página web que tiene anuncios en ventanas emergentes. Simplemente voy a la siguiente página encontrada por Google y espero encontrar algo menos irritante.\tCC-BY 2.0 (France) Attribution: tatoeba.org #954270 (CK) & #1329373 (Shishir)\n",
            "If you want to sound like a native speaker, you must be willing to practice saying the same sentence over and over in the same way that banjo players practice the same phrase over and over until they can play it correctly and at the desired tempo.\tSi quieres sonar como un hablante nativo, debes estar dispuesto a practicar diciendo la misma frase una y otra vez de la misma manera en que un músico de banjo practica el mismo fraseo una y otra vez hasta que lo puedan tocar correctamente y en el tiempo esperado.\tCC-BY 2.0 (France) Attribution: tatoeba.org #953962 (CK) & #1218695 (marcelostockle)\n"
          ],
          "name": "stdout"
        }
      ]
    },
    {
      "cell_type": "markdown",
      "metadata": {
        "id": "14sWD1tmkAB5"
      },
      "source": [
        "From the result above we can see there are 3 columns on the text file. Even without the header we know that the first and second columns are the data we need. \n",
        "\n",
        "Now we use Python to read the data.\n",
        "\n",
        "<font color=\"gray\">__*Delimiter*__  \n",
        "Pay attention to the delimiter of the file - a character to define the boundaries between strings as it defines how we should instruct the computer to process the file. Common delimiters are `tab` and comma `,`.  \n",
        "\n",
        "The text file we are processing uses `tab` as the delimiter.</font>"
      ]
    },
    {
      "cell_type": "code",
      "metadata": {
        "id": "ml_q-HdW0b6F",
        "colab": {
          "base_uri": "https://localhost:8080/"
        },
        "outputId": "c453dadb-3c04-42f0-9952-697f10d81911"
      },
      "source": [
        "import numpy as np\n",
        "\n",
        "# read the text file in English - Spanish pairs\n",
        "def load_doc(filename):\n",
        "  '''load text document'''\n",
        "  file = open(filename, mode='rt')  # rt = read as text\n",
        "  text = file.read()\n",
        "  file.close()\n",
        "  return text\n",
        "\n",
        "def to_pairs(doc):\n",
        "  '''split the text file into sentences'''\n",
        "  lines = doc.strip().split('\\n')\n",
        "  pairs = [line.split('\\t') for line in lines]  # \"\\t\" is the delimiter \n",
        "  return pairs\n",
        "\n",
        "# load dataset\n",
        "filename = 'spa.txt'\n",
        "doc = load_doc(filename)\n",
        "\n",
        "# split document contents into english-spanish pairs\n",
        "text = to_pairs(doc)\n",
        "pairs = np.array(text) #convert sentences from tuple to array\n",
        "pairs = pairs[:100000,:2] # taking the first 100k sentences and first 2 columns (english and spanish) for training\n",
        "# view the first 20 lines of the text document\n",
        "for i in range(20):\n",
        "  print('%s\\t%s' %(pairs[i,0], pairs[i,1]))"
      ],
      "execution_count": null,
      "outputs": [
        {
          "output_type": "stream",
          "text": [
            "Go.\tVe.\n",
            "Go.\tVete.\n",
            "Go.\tVaya.\n",
            "Go.\tVáyase.\n",
            "Hi.\tHola.\n",
            "Run!\t¡Corre!\n",
            "Run!\t¡Corran!\n",
            "Run!\t¡Corra!\n",
            "Run!\t¡Corred!\n",
            "Run.\tCorred.\n",
            "Who?\t¿Quién?\n",
            "Wow!\t¡Órale!\n",
            "Fire!\t¡Fuego!\n",
            "Fire!\t¡Incendio!\n",
            "Fire!\t¡Disparad!\n",
            "Help!\t¡Ayuda!\n",
            "Help!\t¡Socorro! ¡Auxilio!\n",
            "Help!\t¡Auxilio!\n",
            "Jump!\t¡Salta!\n",
            "Jump.\tSalte.\n"
          ],
          "name": "stdout"
        }
      ]
    },
    {
      "cell_type": "markdown",
      "metadata": {
        "id": "LZm6SeO2OMhz"
      },
      "source": [
        "#### <font color='skyblue'>__Clean the data__</font>  \n",
        "\n",
        "Human brains can easily process the importance of punctuations and spaces to a phrase in any languages, in fact it is critical to include the punctuation as part of the word in languages like French and Spanish. But to computer both alphabets and punctuations are no difference as they are \"translated\" to unicodes. The more complex a phrase the easier to confuse the computer what it wants to do.  \n",
        "\n",
        "To simplify the process and to achieve the optimal result we usually only use alphabets to perform machine translations.\n",
        "\n",
        "\n",
        "Remove List:\n",
        "  * remove white space\n",
        "  * normalize unicode characters\n",
        "  * remove punctuations\n",
        "  * remove printable characters\n",
        "  * remove numbers"
      ]
    },
    {
      "cell_type": "code",
      "metadata": {
        "id": "Q6Bbjx8CKY-b",
        "colab": {
          "base_uri": "https://localhost:8080/"
        },
        "outputId": "c71a9787-6dbd-4423-9f7c-38d2d69fe717"
      },
      "source": [
        "import string, re\n",
        "import numpy as np\n",
        "from numpy import array, argmax, random, take\n",
        "import matplotlib.pyplot as plt\n",
        "from unicodedata import normalize\n",
        "%matplotlib inline\n",
        "\n",
        "# define all definitions for processing documents\n",
        "\n",
        "def clean_pairs(lines):\n",
        "  '''remove characters such as punctuation, spaces and printables from the text file'''\n",
        "  clean_list = []\n",
        "  re_punc = re.compile('[%s]'%re.escape(string.punctuation))  # remove punctuation\n",
        "  re_print = re.compile('[^%s]'%re.escape(string.printable)) # remove printable\n",
        "\n",
        "  # do cleaning by lines in the document\n",
        "  for pair in lines:\n",
        "    clean_pair = []\n",
        "    for line in pair:\n",
        "      # normailize unicode characters and decode the UTF-8 characters\n",
        "      line = normalize('NFD',line).encode('ascii','ignore')\n",
        "      line = line.decode('UTF-8')\n",
        "\n",
        "      # remove white space\n",
        "      line = line.split()\n",
        "      # convert characters into lower space\n",
        "      line = [word.lower() for word in line]\n",
        "      # remove punctuations\n",
        "      line = [re_punc.sub('',w) for w in line]\n",
        "      # remove non-printable characters from each token\n",
        "      line = [re_print.sub('',w) for w in line]\n",
        "      # remove characters with numbers\n",
        "      line = [word for word in line if word.isalpha()]\n",
        "      \n",
        "      # store pair as string\n",
        "      clean_pair.append(' '.join(line))\n",
        "\n",
        "    # add cleanpair to clean_list\n",
        "    clean_list.append(clean_pair)\n",
        "\n",
        "  return array(clean_list)\n",
        "\n",
        "\n",
        "# split into english-spanish pairs\n",
        "cleaned = clean_pairs(pairs)\n",
        "print('English\\tSpanish')\n",
        "for i in range(20):\n",
        "  print('%s\\t%s' %(cleaned[i,0], cleaned[i,1]))"
      ],
      "execution_count": null,
      "outputs": [
        {
          "output_type": "stream",
          "text": [
            "English\tSpanish\n",
            "go\tve\n",
            "go\tvete\n",
            "go\tvaya\n",
            "go\tvayase\n",
            "hi\thola\n",
            "run\tcorre\n",
            "run\tcorran\n",
            "run\tcorra\n",
            "run\tcorred\n",
            "run\tcorred\n",
            "who\tquien\n",
            "wow\torale\n",
            "fire\tfuego\n",
            "fire\tincendio\n",
            "fire\tdisparad\n",
            "help\tayuda\n",
            "help\tsocorro auxilio\n",
            "help\tauxilio\n",
            "jump\tsalta\n",
            "jump\tsalte\n"
          ],
          "name": "stdout"
        }
      ]
    },
    {
      "cell_type": "markdown",
      "metadata": {
        "id": "N2uZwT7Wp7IF"
      },
      "source": [
        "#### <font color='skyblue'>__Exploratory Data Analysis (EDA)__</font>  \n",
        "\n",
        "[EDA](https://www.itl.nist.gov/div898/handbook/eda/section1/eda11.htm) helps you to understand the data by visualizing them in order to apply proper machine techniques also perform machine learning on subset data only if necessary.  \n",
        "\n",
        "EDA is not mandatory for this tutorial but we will demonstrate one example for practice purpose.\n",
        "\n",
        "We will be looking at the length of the data (number of words)"
      ]
    },
    {
      "cell_type": "code",
      "metadata": {
        "id": "NZUgM3gGLBW0",
        "colab": {
          "base_uri": "https://localhost:8080/",
          "height": 281
        },
        "outputId": "54cdf315-9a26-4ac9-dd7a-70f855b534ed"
      },
      "source": [
        "import matplotlib.pyplot as plt\n",
        "import pandas as pd\n",
        "%matplotlib inline\n",
        "\n",
        "eng_list , esp_list = [], []  # create empty lists for english and spanish\n",
        "# add all english words in to the english list\n",
        "for i in cleaned[:,0]:\n",
        "  eng_list.append(len(i.split()))\n",
        "# add all spanish words in to the spanish list\n",
        "for i in cleaned[:,1]:\n",
        "  esp_list.append(len(i.split()))\n",
        "length_df = pd.DataFrame({'eng':eng_list, 'esp':esp_list})\n",
        "\n",
        "# plot \n",
        "length_df.hist(bins=30)\n",
        "plt.show()\n",
        "eng_length, esp_length = max(eng_list), max(esp_list)"
      ],
      "execution_count": null,
      "outputs": [
        {
          "output_type": "display_data",
          "data": {
            "image/png": "[encoded data removed]",
            "text/plain": [
              "<Figure size 432x288 with 2 Axes>"
            ]
          },
          "metadata": {
            "tags": [],
            "needs_background": "light"
          }
        }
      ]
    },
    {
      "cell_type": "markdown",
      "metadata": {
        "id": "IBNkmyKIG4FU"
      },
      "source": [
        "## <font color='mediumpurple'>__Text Representation and Feature Engineering__</font>\n",
        " \n",
        "With the cleaned dataset we will be applying couple data minig techniques to prepare the data feeding into the algorithms."
      ]
    },
    {
      "cell_type": "markdown",
      "metadata": {
        "id": "JWjqe8OxQodZ"
      },
      "source": [
        "#### <font color='mediumpurple'>__Train / Split Data__</font>\n",
        "\n",
        "We will be dividing the data into training data and testing data with the ratio of 70% and 30% respectively."
      ]
    },
    {
      "cell_type": "code",
      "metadata": {
        "id": "wklHAX0OopCf"
      },
      "source": [
        "from sklearn.model_selection import train_test_split\n",
        "train_list, test_list = train_test_split(cleaned, test_size=0.30, random_state=0)"
      ],
      "execution_count": null,
      "outputs": []
    },
    {
      "cell_type": "markdown",
      "metadata": {
        "id": "KT-Xi8faCkLn"
      },
      "source": [
        "#### <font color='mediumpurple'>__Tokenization__</font>  \n",
        "\n",
        "For each English/Spanish phrase in the dataset we will break down into individual words.\n"
      ]
    },
    {
      "cell_type": "code",
      "metadata": {
        "colab": {
          "base_uri": "https://localhost:8080/"
        },
        "id": "6Y8W27YoqZEl",
        "outputId": "e436a615-0849-43d3-89c7-4c5b728dcba4"
      },
      "source": [
        "from keras.preprocessing.text import Tokenizer\n",
        "\n",
        "def tokenization(line):\n",
        "  tokenizer = Tokenizer()\n",
        "  tokenizer.fit_on_texts(line)\n",
        "  return tokenizer\n",
        "\n",
        "# tokenization for both english texts and spanish texts\n",
        "eng_tokenizer = tokenization(cleaned[:,0])\n",
        "esp_tokenizer = tokenization(cleaned[:,1])\n",
        "\n",
        "# check the number of words\n",
        "eng_vocab_size = len(eng_tokenizer.word_index) + 1\n",
        "esp_vocab_size = len(esp_tokenizer.word_index) + 1\n",
        "print('English vocabulary size:',eng_vocab_size)  # due to padding=0 we are using + 1"
      ],
      "execution_count": null,
      "outputs": [
        {
          "output_type": "stream",
          "text": [
            "English vocabulary size: 10730\n"
          ],
          "name": "stdout"
        }
      ]
    },
    {
      "cell_type": "markdown",
      "metadata": {
        "id": "UKhUhMTjOM2m"
      },
      "source": [
        "#### <font color='mediumpurple'>__Encoding Sequences__</font>  \n",
        "\n",
        "Standardize data into a same length and converting textual form into numerical form."
      ]
    },
    {
      "cell_type": "code",
      "metadata": {
        "id": "66o6EUPhpKmA"
      },
      "source": [
        "from keras.preprocessing.sequence import pad_sequences\n",
        "\n",
        "def encode_sequences(tokenizer, length, lines):\n",
        "  seq = tokenizer.texts_to_sequences(lines)  # stores the codes in seq\n",
        "  seq = pad_sequences(seq, maxlen=length,padding='post')\n",
        "  return seq\n",
        "\n",
        "# split esp data as training data and english data as the labels\n",
        "train_X = encode_sequences(tokenizer=esp_tokenizer, length=8, lines=train_list[:,1])\n",
        "train_y = encode_sequences(tokenizer=eng_tokenizer, length=8, lines=train_list[:,0])\n",
        "\n",
        "test_X = encode_sequences(tokenizer=esp_tokenizer, length=8, lines=test_list[:,1])\n",
        "test_y = encode_sequences(tokenizer=eng_tokenizer, length=8, lines=test_list[:,0])"
      ],
      "execution_count": null,
      "outputs": []
    },
    {
      "cell_type": "code",
      "metadata": {
        "colab": {
          "base_uri": "https://localhost:8080/"
        },
        "id": "Ckb-CtOTluKg",
        "outputId": "26169f3d-2d0e-4203-c412-e6c7c0fa64d2"
      },
      "source": [
        "# print data size and sample\n",
        "print('Size of the training data is %s \\nSample of the training data is %s'%(train_X.shape,train_X[0]))\n",
        "print('Size of the training label is %s \\nSample of the training label is %s'%(train_y.shape,train_y[0]))"
      ],
      "execution_count": null,
      "outputs": [
        {
          "output_type": "stream",
          "text": [
            "Size of the training data is (70000, 8) \n",
            "Sample of the training data is [  12    1 2195    5    4    0    0    0]\n",
            "Size of the training label is (70000, 8) \n",
            "Sample of the training label is [  1  33  14   2 123   5   0   0]\n"
          ],
          "name": "stdout"
        }
      ]
    },
    {
      "cell_type": "markdown",
      "metadata": {
        "id": "_rJNgn3UT6bm"
      },
      "source": [
        "## <font color='darksalmon'>__Model__</font> \n",
        "\n",
        "We will be using LSTM (Long Short Term Memory) to train our dataset."
      ]
    },
    {
      "cell_type": "markdown",
      "metadata": {
        "id": "dILuR6zcUp_K"
      },
      "source": [
        "#### <font color='darksalmon'>__Define Model and Model Layers__</font>"
      ]
    },
    {
      "cell_type": "code",
      "metadata": {
        "id": "6k0QazZ3Uerp"
      },
      "source": [
        "from keras.layers import Dense, LSTM, Embedding, RepeatVector\n",
        "from keras.models import Sequential\n",
        "from keras import optimizers\n",
        "import warnings\n",
        "\n",
        "warnings.filterwarnings('ignore')\n",
        "\n",
        "# model architecture \n",
        "model = Sequential()  # set model as sequential\n",
        "# add layers on model\n",
        "model.add(Embedding(esp_vocab_size,512,input_length=8))  # embedding layer\n",
        "model.add(LSTM(512))\n",
        "model.add(RepeatVector(8))\n",
        "model.add(LSTM(512,return_sequences=True))\n",
        "model.add(Dense(eng_vocab_size,activation='softmax'))  # we will get word with max probability out of all the words in english vocabs\n",
        "\n",
        "# compile model layers with setting optimizer and loss method\n",
        "model.compile(optimizer=optimizers.RMSprop(0.001), loss='sparse_categorical_crossentropy')\n"
      ],
      "execution_count": null,
      "outputs": []
    },
    {
      "cell_type": "markdown",
      "metadata": {
        "id": "UciNQ-mPWzF6"
      },
      "source": [
        "#### <font color='darksalmon'>__Train the model and Save the Best Model__</font>"
      ]
    },
    {
      "cell_type": "code",
      "metadata": {
        "colab": {
          "background_save": true,
          "base_uri": "https://localhost:8080/"
        },
        "id": "5q28RghYVkSR",
        "outputId": "f61a6ae6-c289-4f0d-887f-9585d643538f"
      },
      "source": [
        "from keras.callbacks import ModelCheckpoint\n",
        "\n",
        "# save the best model based on minimum loss from model\n",
        "checkpoint = ModelCheckpoint('model.h1',monitor='val_loss',verbose=1,save_best_only=True,mode='min')\n",
        "\n",
        "# fit model\n",
        "history = model.fit(train_X,\n",
        "          train_y.reshape(train_X.shape[0],train_y.shape[1],1),\n",
        "          epochs=30,\n",
        "          batch_size=512,\n",
        "          validation_split=0.33,\n",
        "          callbacks=[checkpoint],\n",
        "          verbose=1)"
      ],
      "execution_count": null,
      "outputs": [
        {
          "output_type": "stream",
          "text": [
            "Epoch 1/30\n",
            "92/92 [==============================] - ETA: 0s - loss: 4.6178\n",
            "Epoch 00001: val_loss improved from inf to 4.29276, saving model to model.h1\n",
            "WARNING:tensorflow:From /usr/local/lib/python3.6/dist-packages/tensorflow/python/training/tracking/tracking.py:111: Model.state_updates (from tensorflow.python.keras.engine.training) is deprecated and will be removed in a future version.\n",
            "Instructions for updating:\n",
            "This property should not be used in TensorFlow 2.0, as updates are applied automatically.\n",
            "WARNING:tensorflow:From /usr/local/lib/python3.6/dist-packages/tensorflow/python/training/tracking/tracking.py:111: Layer.updates (from tensorflow.python.keras.engine.base_layer) is deprecated and will be removed in a future version.\n",
            "Instructions for updating:\n",
            "This property should not be used in TensorFlow 2.0, as updates are applied automatically.\n",
            "INFO:tensorflow:Assets written to: model.h1/assets\n",
            "92/92 [==============================] - 636s 7s/step - loss: 4.6178 - val_loss: 4.2928\n",
            "Epoch 2/30\n",
            "69/92 [=====================>........] - ETA: 2:14 - loss: 4.1322"
          ],
          "name": "stdout"
        }
      ]
    },
    {
      "cell_type": "markdown",
      "metadata": {
        "id": "wpUvh9wXbAak"
      },
      "source": [
        "## <font color='hotpink'>__Plot Results and Make Predictions__</font>  \n",
        "\n",
        "Load results and make predictions based on the model"
      ]
    },
    {
      "cell_type": "markdown",
      "metadata": {
        "id": "QzhNg4OQbQtd"
      },
      "source": [
        "#### <font color='hotpink'>__Load Trained Model__</font>"
      ]
    },
    {
      "cell_type": "code",
      "metadata": {
        "colab": {
          "background_save": true
        },
        "id": "QLpN21glaXfp"
      },
      "source": [
        "from keras.models import load_model\n",
        "from sklearn.metrics import accuracy_score\n",
        "model = load_model(\"model.h1\")"
      ],
      "execution_count": null,
      "outputs": []
    },
    {
      "cell_type": "markdown",
      "metadata": {
        "id": "ldV-46FbcFoA"
      },
      "source": [
        "#### <font color='hotpink'>__Plot Result__</font>\n",
        "\n"
      ]
    },
    {
      "cell_type": "code",
      "metadata": {
        "colab": {
          "background_save": true
        },
        "id": "UVam44VXcMMl",
        "outputId": "89b47b91-3de4-4f56-f6d3-af71ce3f3bbc"
      },
      "source": [
        "plt.plot(history.history['loss'])\n",
        "plt.plot(history.history['val_loss'])\n",
        "plt.legend(['train', 'validation'])\n",
        "plt.show()"
      ],
      "execution_count": null,
      "outputs": [
        {
          "output_type": "display_data",
          "data": {
            "image/png": "[encoded data removed]",
            "text/plain": [
              "<Figure size 432x288 with 1 Axes>"
            ]
          },
          "metadata": {
            "tags": []
          }
        }
      ]
    },
    {
      "cell_type": "markdown",
      "metadata": {
        "id": "EPyVdjI3c9kC"
      },
      "source": [
        "#### <font color='hotpink'>__Make Predictions__</font>"
      ]
    },
    {
      "cell_type": "code",
      "metadata": {
        "colab": {
          "background_save": true
        },
        "id": "q2mOUXjLc43s",
        "outputId": "59981e7a-c294-4f25-ca14-0d14f5aeb8cb"
      },
      "source": [
        "preds = model.predict_classes(text_X)\n",
        "def get_word(n, tokenizer):\n",
        "  '''read words'''\n",
        "  for word, index in tokenizer.word_index.items():\n",
        "    if index == n:\n",
        "      return word\n",
        "  return None\n",
        "\n",
        "# make prediction\n",
        "preds_text = []\n",
        "for i in preds:\n",
        "  temp = []\n",
        "  for j in range(len(i)):\n",
        "    t = get_word(i[j], eng_tokenizer)\n",
        "    # add the predicted word to temp list if the word is not None\n",
        "    if j > 0:\n",
        "      if (t == get_word(i[j-1], eng_tokenizer)) or (t==None):\n",
        "        temp.append('')\n",
        "      else:\n",
        "        temp.append(t)\n",
        "    \n",
        "  preds_text.append(' '.join(temp))\n",
        "\n",
        "# print results in dataframe\n",
        "pred_df = pd.DataFrame({'spanish':test[:,1],'actual' : test[:,0], 'predicted' : preds_text})\n",
        "\n",
        "pred_df"
      ],
      "execution_count": null,
      "outputs": [
        {
          "output_type": "error",
          "ename": "NameError",
          "evalue": "ignored",
          "traceback": [
            "\u001b[0;31m---------------------------------------------------------------------------\u001b[0m",
            "\u001b[0;31mNameError\u001b[0m                                 Traceback (most recent call last)",
            "\u001b[0;32m<ipython-input-17-2e84b9fff41c>\u001b[0m in \u001b[0;36m<module>\u001b[0;34m()\u001b[0m\n\u001b[0;32m----> 1\u001b[0;31m \u001b[0mpreds\u001b[0m \u001b[0;34m=\u001b[0m \u001b[0mmodel\u001b[0m\u001b[0;34m.\u001b[0m\u001b[0mpredict_classes\u001b[0m\u001b[0;34m(\u001b[0m\u001b[0mtext_X\u001b[0m\u001b[0;34m)\u001b[0m\u001b[0;34m\u001b[0m\u001b[0;34m\u001b[0m\u001b[0m\n\u001b[0m\u001b[1;32m      2\u001b[0m \u001b[0;32mdef\u001b[0m \u001b[0mget_word\u001b[0m\u001b[0;34m(\u001b[0m\u001b[0mn\u001b[0m\u001b[0;34m,\u001b[0m \u001b[0mtokenizer\u001b[0m\u001b[0;34m)\u001b[0m\u001b[0;34m:\u001b[0m\u001b[0;34m\u001b[0m\u001b[0;34m\u001b[0m\u001b[0m\n\u001b[1;32m      3\u001b[0m   \u001b[0;34m'''read words'''\u001b[0m\u001b[0;34m\u001b[0m\u001b[0;34m\u001b[0m\u001b[0m\n\u001b[1;32m      4\u001b[0m   \u001b[0;32mfor\u001b[0m \u001b[0mword\u001b[0m\u001b[0;34m,\u001b[0m \u001b[0mindex\u001b[0m \u001b[0;32min\u001b[0m \u001b[0mtokenizer\u001b[0m\u001b[0;34m.\u001b[0m\u001b[0mword_index\u001b[0m\u001b[0;34m.\u001b[0m\u001b[0mitems\u001b[0m\u001b[0;34m(\u001b[0m\u001b[0;34m)\u001b[0m\u001b[0;34m:\u001b[0m\u001b[0;34m\u001b[0m\u001b[0;34m\u001b[0m\u001b[0m\n\u001b[1;32m      5\u001b[0m     \u001b[0;32mif\u001b[0m \u001b[0mindex\u001b[0m \u001b[0;34m==\u001b[0m \u001b[0mn\u001b[0m\u001b[0;34m:\u001b[0m\u001b[0;34m\u001b[0m\u001b[0;34m\u001b[0m\u001b[0m\n",
            "\u001b[0;31mNameError\u001b[0m: name 'text_X' is not defined"
          ]
        }
      ]
    }
  ]
}